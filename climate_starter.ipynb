{
 "cells": [
  {
   "cell_type": "code",
   "execution_count": 2,
   "metadata": {},
   "outputs": [],
   "source": [
    "%matplotlib inline\n",
    "from matplotlib import style\n",
    "style.use('fivethirtyeight')\n",
    "import matplotlib.pyplot as plt"
   ]
  },
  {
   "cell_type": "code",
   "execution_count": 3,
   "metadata": {},
   "outputs": [],
   "source": [
    "import numpy as np\n",
    "import pandas as pd\n",
    "import datetime as dt\n",
    "\n",
    "#added this change in the code"
   ]
  },
  {
   "cell_type": "markdown",
   "metadata": {},
   "source": [
    "# Reflect Tables into SQLAlchemy ORM"
   ]
  },
  {
   "cell_type": "code",
   "execution_count": 4,
   "metadata": {},
   "outputs": [],
   "source": [
    "# Python SQL toolkit and Object Relational Mapper\n",
    "import sqlalchemy\n",
    "from sqlalchemy.ext.automap import automap_base\n",
    "from sqlalchemy.orm import Session\n",
    "from sqlalchemy import create_engine, func"
   ]
  },
  {
   "cell_type": "code",
   "execution_count": 5,
   "metadata": {},
   "outputs": [],
   "source": [
    "# create engine to hawaii.sqlite\n",
    "engine = create_engine(\"sqlite:///resources/hawaii.sqlite\")"
   ]
  },
  {
   "cell_type": "code",
   "execution_count": 6,
   "metadata": {},
   "outputs": [],
   "source": [
    "# reflect an existing database into a new model\n",
    "Base = automap_base()\n",
    "\n",
    "# reflect the tables\n",
    "Base.prepare(engine, reflect = True)"
   ]
  },
  {
   "cell_type": "code",
   "execution_count": 8,
   "metadata": {},
   "outputs": [
    {
     "data": {
      "text/plain": [
       "['measurement', 'station']"
      ]
     },
     "execution_count": 8,
     "metadata": {},
     "output_type": "execute_result"
    }
   ],
   "source": [
    "# View all of the classes that automap found\n",
    "Base.classes.keys()"
   ]
  },
  {
   "cell_type": "code",
   "execution_count": 9,
   "metadata": {},
   "outputs": [],
   "source": [
    "# Save references to each table\n",
    "Measurement = Base.classes.measurement\n",
    "Station = Base.classes.station"
   ]
  },
  {
   "cell_type": "code",
   "execution_count": 10,
   "metadata": {},
   "outputs": [],
   "source": [
    "# Create our session (link) from Python to the DB\n",
    "session = Session(engine)"
   ]
  },
  {
   "cell_type": "markdown",
   "metadata": {},
   "source": [
    "# Exploratory Precipitation Analysis"
   ]
  },
  {
   "cell_type": "code",
   "execution_count": 46,
   "metadata": {},
   "outputs": [
    {
     "name": "stdout",
     "output_type": "stream",
     "text": [
      "2017-08-23\n",
      "19550\n",
      "('USC00519397',)\n",
      "('USC00513117',)\n",
      "('USC00514830',)\n",
      "('USC00517948',)\n",
      "('USC00518838',)\n",
      "('USC00519523',)\n",
      "('USC00519281',)\n",
      "('USC00511918',)\n",
      "('USC00516128',)\n"
     ]
    },
    {
     "data": {
      "text/plain": [
       "['USC00519397',\n",
       " 'USC00513117',\n",
       " 'USC00514830',\n",
       " 'USC00517948',\n",
       " 'USC00518838',\n",
       " 'USC00519523',\n",
       " 'USC00519281',\n",
       " 'USC00511918',\n",
       " 'USC00516128']"
      ]
     },
     "execution_count": 46,
     "metadata": {},
     "output_type": "execute_result"
    }
   ],
   "source": [
    "# Find the most recent date in the data set.\n",
    "\n",
    "# Measurement table recent date query\n",
    "recent_date_query = session.query(func.max(Measurement.date)).all()\n",
    "max_date = recent_date_query[0][0]\n",
    "print(max_date)\n",
    "\n",
    "# Measurement table count query\n",
    "measurement_table = session.query(Measurement.date).count()\n",
    "print(measurement_table)\n",
    "\n",
    "# Measurement table prcp query and trying to count how many station\n",
    "station_query = session.query(Measurement.station).distinct()\n",
    "station_list = []\n",
    "for station in station_query:\n",
    "    if station not in station_list:\n",
    "        station_list.append(station[0])\n",
    "    print(station)\n",
    "station_query.count()\n",
    "station_list\n",
    "\n",
    "station_count = 0\n",
    "for station in station_list:\n",
    "    if station == station_list[station]:\n",
    "        station_count += 1\n",
    "    elif station != station_list\n"
   ]
  },
  {
   "cell_type": "code",
   "execution_count": 10,
   "metadata": {},
   "outputs": [
    {
     "name": "stdout",
     "output_type": "stream",
     "text": [
      "{'_sa_instance_state': <sqlalchemy.orm.state.InstanceState object at 0x0000027575836F10>, 'station': 'USC00519397', 'latitude': 21.2716, 'elevation': 3.0, 'longitude': -157.8168, 'name': 'WAIKIKI 717.2, HI US', 'id': 1}\n",
      "_sa_instance_state: <sqlalchemy.orm.state.InstanceState object at 0x0000027575836F10>\n",
      "station: USC00519397\n",
      "latitude: 21.2716\n",
      "elevation: 3.0\n",
      "longitude: -157.8168\n",
      "name: WAIKIKI 717.2, HI US\n",
      "id: 1\n"
     ]
    }
   ],
   "source": [
    "# Station table first row query\n",
    "first_row_table2 = session.query(Station).first()\n",
    "print(first_row_table2.__dict__)\n",
    "for key, value in first_row_table2.__dict__.items():\n",
    "    print(f\"{key}: {value}\")\n",
    "\n",
    "station_query = session.query(Station)\n",
    "\n",
    "\n",
    "\n"
   ]
  },
  {
   "cell_type": "code",
   "execution_count": 19,
   "metadata": {},
   "outputs": [
    {
     "ename": "NameError",
     "evalue": "name 'max_date_item' is not defined",
     "output_type": "error",
     "traceback": [
      "\u001b[1;31m---------------------------------------------------------------------------\u001b[0m",
      "\u001b[1;31mNameError\u001b[0m                                 Traceback (most recent call last)",
      "\u001b[1;32m<ipython-input-19-7b9b11b20952>\u001b[0m in \u001b[0;36m<module>\u001b[1;34m\u001b[0m\n\u001b[0;32m      3\u001b[0m \u001b[1;33m\u001b[0m\u001b[0m\n\u001b[0;32m      4\u001b[0m \u001b[1;31m# Calculate the date one year from the last date in data set.\u001b[0m\u001b[1;33m\u001b[0m\u001b[1;33m\u001b[0m\u001b[1;33m\u001b[0m\u001b[0m\n\u001b[1;32m----> 5\u001b[1;33m \u001b[0mmax_date_list\u001b[0m \u001b[1;33m=\u001b[0m \u001b[0mmax_date_item\u001b[0m\u001b[1;33m.\u001b[0m\u001b[0msplit\u001b[0m\u001b[1;33m(\u001b[0m\u001b[1;34m\"-\"\u001b[0m\u001b[1;33m)\u001b[0m\u001b[1;33m\u001b[0m\u001b[1;33m\u001b[0m\u001b[0m\n\u001b[0m\u001b[0;32m      6\u001b[0m \u001b[1;31m# print(max_date_list)\u001b[0m\u001b[1;33m\u001b[0m\u001b[1;33m\u001b[0m\u001b[1;33m\u001b[0m\u001b[0m\n\u001b[0;32m      7\u001b[0m \u001b[1;33m\u001b[0m\u001b[0m\n",
      "\u001b[1;31mNameError\u001b[0m: name 'max_date_item' is not defined"
     ]
    }
   ],
   "source": [
    "# Design a query to retrieve the last 12 months of precipitation data and plot the results. \n",
    "# Starting from the most recent data point in the database. \n",
    "\n",
    "# Calculate the date one year from the last date in data set.\n",
    "max_date_list = max_date_item.split(\"-\")\n",
    "# print(max_date_list)\n",
    "\n",
    "starting_date1 = dt.date(int(max_date_list[0]), int(max_date_list[1]), int(max_date_list[2]))\n",
    "# print(type(starting_date1))\n",
    "# print(starting_date1)\n",
    "\n",
    "starting_date2 = dt.date.fromisoformat(max_date_item)\n",
    "# print(type(starting_date2))\n",
    "# print(starting_date2)\n",
    "\n",
    "one_year = dt.timedelta(days = 366)\n",
    "\n",
    "t1 = starting_date1 - one_year\n",
    "print(type(t1))\n",
    "print(t1)\n",
    "\n",
    "prcp_date = session.execute(\"SELECT date, prcp FROM measurement WHERE date > '2017-01-01' LIMIT 10\")\n",
    "# for i in prcp_date:\n",
    "#     print(i)\n",
    "\n",
    "# Perform a query to retrieve the data and precipitation scores\n",
    "sql_query = \"SELECT date, prcp FROM measurement WHERE date > '2016-08-23'\"\n",
    "prcp_date_1 = session.execute(sql_query).all()\n",
    "# print(len(prcp_date_1))\n",
    "for i in prcp_date_1:\n",
    "    print(i)\n",
    "# for i, element in enumerate(prcp_date_1, len(prcp_date_1)):\n",
    "#     print(i)\n",
    "# print(element)\n",
    "\n",
    "prcp_date_2 = session.query(Measurement).filter(Measurement.date, Measurement.prcp).filter(Measurement.date > (t1)).all()\n",
    "# print(prcp_date_2)\n",
    "print(t1)\n",
    "count = 0\n",
    "for i in prcp_date_2:\n",
    "    count += 1\n",
    "    print(i.date, i.prcp)\n",
    "\n",
    "print(count)\n",
    "# Save the query results as a Pandas DataFrame and set the index to the date column\n",
    "\n",
    "\n",
    "# Sort the dataframe by date\n",
    "\n",
    "\n",
    "# Use Pandas Plotting with Matplotlib to plot the data\n",
    "\n",
    "\n"
   ]
  },
  {
   "cell_type": "code",
   "execution_count": null,
   "metadata": {},
   "outputs": [],
   "source": [
    "# Use Pandas to calcualte the summary statistics for the precipitation data\n"
   ]
  },
  {
   "cell_type": "markdown",
   "metadata": {},
   "source": [
    "# Exploratory Station Analysis"
   ]
  },
  {
   "cell_type": "code",
   "execution_count": null,
   "metadata": {},
   "outputs": [],
   "source": [
    "# Design a query to calculate the total number stations in the dataset\n"
   ]
  },
  {
   "cell_type": "code",
   "execution_count": null,
   "metadata": {},
   "outputs": [],
   "source": [
    "# Design a query to find the most active stations (i.e. what stations have the most rows?)\n",
    "# List the stations and the counts in descending order.\n"
   ]
  },
  {
   "cell_type": "code",
   "execution_count": null,
   "metadata": {},
   "outputs": [],
   "source": [
    "# Using the most active station id from the previous query, calculate the lowest, highest, and average temperature.\n"
   ]
  },
  {
   "cell_type": "code",
   "execution_count": null,
   "metadata": {},
   "outputs": [],
   "source": [
    "# Using the most active station id\n",
    "# Query the last 12 months of temperature observation data for this station and plot the results as a histogram\n"
   ]
  },
  {
   "cell_type": "markdown",
   "metadata": {},
   "source": [
    "# Close session"
   ]
  },
  {
   "cell_type": "code",
   "execution_count": null,
   "metadata": {},
   "outputs": [],
   "source": [
    "# Close Session\n",
    "session.close()"
   ]
  },
  {
   "cell_type": "code",
   "execution_count": null,
   "metadata": {},
   "outputs": [],
   "source": []
  }
 ],
 "metadata": {
  "anaconda-cloud": {},
  "kernel_info": {
   "name": "python3"
  },
  "kernelspec": {
   "display_name": "Python 3",
   "language": "python",
   "name": "python3"
  },
  "language_info": {
   "codemirror_mode": {
    "name": "ipython",
    "version": 3
   },
   "file_extension": ".py",
   "mimetype": "text/x-python",
   "name": "python",
   "nbconvert_exporter": "python",
   "pygments_lexer": "ipython3",
   "version": "3.8.8"
  },
  "nteract": {
   "version": "0.12.3"
  },
  "varInspector": {
   "cols": {
    "lenName": 16,
    "lenType": 16,
    "lenVar": 40
   },
   "kernels_config": {
    "python": {
     "delete_cmd_postfix": "",
     "delete_cmd_prefix": "del ",
     "library": "var_list.py",
     "varRefreshCmd": "print(var_dic_list())"
    },
    "r": {
     "delete_cmd_postfix": ") ",
     "delete_cmd_prefix": "rm(",
     "library": "var_list.r",
     "varRefreshCmd": "cat(var_dic_list()) "
    }
   },
   "types_to_exclude": [
    "module",
    "function",
    "builtin_function_or_method",
    "instance",
    "_Feature"
   ],
   "window_display": false
  }
 },
 "nbformat": 4,
 "nbformat_minor": 2
}
