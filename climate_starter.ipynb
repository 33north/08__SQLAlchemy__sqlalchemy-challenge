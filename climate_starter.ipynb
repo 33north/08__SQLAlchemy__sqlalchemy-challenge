{
 "cells": [
  {
   "cell_type": "code",
   "execution_count": 1,
   "metadata": {},
   "outputs": [],
   "source": [
    "%matplotlib inline\n",
    "from matplotlib import style\n",
    "style.use('fivethirtyeight')\n",
    "import matplotlib.pyplot as plt"
   ]
  },
  {
   "cell_type": "code",
   "execution_count": 2,
   "metadata": {},
   "outputs": [],
   "source": [
    "import numpy as np\n",
    "import pandas as pd\n",
    "import datetime as dt"
   ]
  },
  {
   "cell_type": "markdown",
   "metadata": {},
   "source": [
    "# Reflect Tables into SQLAlchemy ORM"
   ]
  },
  {
   "cell_type": "code",
   "execution_count": 3,
   "metadata": {},
   "outputs": [],
   "source": [
    "# Python SQL toolkit and Object Relational Mapper\n",
    "import sqlalchemy\n",
    "from sqlalchemy.ext.automap import automap_base\n",
    "from sqlalchemy.orm import Session\n",
    "from sqlalchemy import create_engine, func"
   ]
  },
  {
   "cell_type": "code",
   "execution_count": 4,
   "metadata": {},
   "outputs": [],
   "source": [
    "# create engine to hawaii.sqlite\n",
    "engine = create_engine(\"sqlite:///resources/hawaii.sqlite\")"
   ]
  },
  {
   "cell_type": "code",
   "execution_count": 5,
   "metadata": {},
   "outputs": [],
   "source": [
    "# reflect an existing database into a new model\n",
    "Base = automap_base()\n",
    "\n",
    "# reflect the tables\n",
    "Base.prepare(engine, reflect = True)"
   ]
  },
  {
   "cell_type": "code",
   "execution_count": 6,
   "metadata": {},
   "outputs": [
    {
     "data": {
      "text/plain": [
       "['measurement', 'station']"
      ]
     },
     "execution_count": 6,
     "metadata": {},
     "output_type": "execute_result"
    }
   ],
   "source": [
    "# View all of the classes that automap found\n",
    "Base.classes.keys()"
   ]
  },
  {
   "cell_type": "code",
   "execution_count": 7,
   "metadata": {},
   "outputs": [],
   "source": [
    "# Save references to each table\n",
    "Measurement = Base.classes.measurement\n",
    "Station = Base.classes.station"
   ]
  },
  {
   "cell_type": "code",
   "execution_count": 8,
   "metadata": {},
   "outputs": [],
   "source": [
    "# Create our session (link) from Python to the DB\n",
    "session = Session(engine)"
   ]
  },
  {
   "cell_type": "markdown",
   "metadata": {},
   "source": [
    "# Exploratory Precipitation Analysis"
   ]
  },
  {
   "cell_type": "code",
   "execution_count": 9,
   "metadata": {},
   "outputs": [
    {
     "name": "stdout",
     "output_type": "stream",
     "text": [
      "_sa_instance_state: <sqlalchemy.orm.state.InstanceState object at 0x7ffa939e2b80>\n",
      "date: 2010-01-01\n",
      "tobs: 65.0\n",
      "id: 1\n",
      "station: USC00519397\n",
      "prcp: 0.08\n",
      "Last date in table: 2017-08-23\n",
      "<class 'sqlalchemy.engine.cursor.CursorResult'>\n",
      "<class 'str'>\n"
     ]
    }
   ],
   "source": [
    "# Find the most recent date in the data set.\n",
    "\n",
    "# Measurement table\n",
    "first_row_table1 = session.query(Measurement).first()\n",
    "# print(first_row_table1.__dict__)\n",
    "# print(type(first_row_table1.__dict__))\n",
    "for item_key, item_value in first_row_table1.__dict__.items():\n",
    "    print(f\"{item_key}: {item_value}\")\n",
    "\n",
    "sql_statement = \"SELECT max(date) FROM measurement\"\n",
    "max_date = session.execute(sql_statement)\n",
    "for date in max_date:\n",
    "    max_date_item = date[0]\n",
    "    print(f\"Last date in table: {date[0]}\")\n",
    "\n",
    "print(type(max_date))\n",
    "print(type(max_date_item))\n"
   ]
  },
  {
   "cell_type": "code",
   "execution_count": 10,
   "metadata": {},
   "outputs": [
    {
     "name": "stdout",
     "output_type": "stream",
     "text": [
      "{'_sa_instance_state': <sqlalchemy.orm.state.InstanceState object at 0x7ffa909e60a0>, 'station': 'USC00519397', 'name': 'WAIKIKI 717.2, HI US', 'longitude': -157.8168, 'id': 1, 'latitude': 21.2716, 'elevation': 3.0}\n",
      "_sa_instance_state: <sqlalchemy.orm.state.InstanceState object at 0x7ffa909e60a0>\n",
      "station: USC00519397\n",
      "name: WAIKIKI 717.2, HI US\n",
      "longitude: -157.8168\n",
      "id: 1\n",
      "latitude: 21.2716\n",
      "elevation: 3.0\n"
     ]
    }
   ],
   "source": [
    "# Station table\n",
    "first_row_table2 = session.query(Station).first()\n",
    "print(first_row_table2.__dict__)\n",
    "for key, value in first_row_table2.__dict__.items():\n",
    "    print(f\"{key}: {value}\")\n"
   ]
  },
  {
   "cell_type": "code",
   "execution_count": 11,
   "metadata": {},
   "outputs": [
    {
     "name": "stdout",
     "output_type": "stream",
     "text": [
      "['2017', '08', '23']\n",
      "<class 'datetime.date'>\n",
      "2017-08-23\n",
      "<class 'datetime.date'>\n",
      "2017-08-23\n",
      "<class 'datetime.date'>\n",
      "2016-08-23\n",
      "('2017-01-02', 0.0)\n",
      "('2017-01-03', 0.0)\n",
      "('2017-01-04', 0.0)\n",
      "('2017-01-05', 0.0)\n",
      "('2017-01-06', 0.0)\n",
      "('2017-01-07', 0.0)\n",
      "('2017-01-08', 0.0)\n",
      "('2017-01-09', 0.0)\n",
      "('2017-01-10', 0.0)\n",
      "('2017-01-11', 0.0)\n"
     ]
    }
   ],
   "source": [
    "# Design a query to retrieve the last 12 months of precipitation data and plot the results. \n",
    "# Starting from the most recent data point in the database. \n",
    "\n",
    "# Calculate the date one year from the last date in data set.\n",
    "max_date_list = max_date_item.split(\"-\")\n",
    "print(max_date_list)\n",
    "\n",
    "starting_date1 = dt.date(int(max_date_list[0]), int(max_date_list[1]), int(max_date_list[2]))\n",
    "print(type(starting_date1))\n",
    "print(starting_date1)\n",
    "\n",
    "starting_date2 = dt.date.fromisoformat(max_date_item)\n",
    "print(type(starting_date2))\n",
    "print(starting_date2)\n",
    "\n",
    "one_year = dt.timedelta(days = 365)\n",
    "\n",
    "t1 = starting_date1 - one_year\n",
    "print(type(t1))\n",
    "print(t1)\n",
    "\n",
    "prcp_date = session.execute(\"SELECT date, prcp FROM measurement WHERE date > '2017-01-01' LIMIT 10\")\n",
    "for i in prcp_date:\n",
    "    print(i)\n",
    "\n",
    "# Perform a query to retrieve the data and precipitation scores\n",
    "sql_query = \"SELECT date, prcp FROM measurement WHERE date > '2016-08-23'\"\n",
    "prcp_date_1 = session.execute(sql_query).all()\n",
    "# for i in prcp_date_1:\n",
    "#     print(i)\n",
    "\n",
    "# Save the query results as a Pandas DataFrame and set the index to the date column\n",
    "\n",
    "\n",
    "# Sort the dataframe by date\n",
    "\n",
    "\n",
    "# Use Pandas Plotting with Matplotlib to plot the data\n",
    "\n",
    "\n"
   ]
  },
  {
   "cell_type": "code",
   "execution_count": null,
   "metadata": {},
   "outputs": [],
   "source": [
    "# Use Pandas to calcualte the summary statistics for the precipitation data\n"
   ]
  },
  {
   "cell_type": "markdown",
   "metadata": {},
   "source": [
    "# Exploratory Station Analysis"
   ]
  },
  {
   "cell_type": "code",
   "execution_count": null,
   "metadata": {},
   "outputs": [],
   "source": [
    "# Design a query to calculate the total number stations in the dataset\n"
   ]
  },
  {
   "cell_type": "code",
   "execution_count": null,
   "metadata": {},
   "outputs": [],
   "source": [
    "# Design a query to find the most active stations (i.e. what stations have the most rows?)\n",
    "# List the stations and the counts in descending order.\n"
   ]
  },
  {
   "cell_type": "code",
   "execution_count": null,
   "metadata": {},
   "outputs": [],
   "source": [
    "# Using the most active station id from the previous query, calculate the lowest, highest, and average temperature.\n"
   ]
  },
  {
   "cell_type": "code",
   "execution_count": null,
   "metadata": {},
   "outputs": [],
   "source": [
    "# Using the most active station id\n",
    "# Query the last 12 months of temperature observation data for this station and plot the results as a histogram\n"
   ]
  },
  {
   "cell_type": "markdown",
   "metadata": {},
   "source": [
    "# Close session"
   ]
  },
  {
   "cell_type": "code",
   "execution_count": null,
   "metadata": {},
   "outputs": [],
   "source": [
    "# Close Session\n",
    "session.close()"
   ]
  },
  {
   "cell_type": "code",
   "execution_count": null,
   "metadata": {},
   "outputs": [],
   "source": []
  }
 ],
 "metadata": {
  "anaconda-cloud": {},
  "kernel_info": {
   "name": "python3"
  },
  "kernelspec": {
   "display_name": "Python 3",
   "language": "python",
   "name": "python3"
  },
  "language_info": {
   "codemirror_mode": {
    "name": "ipython",
    "version": 3
   },
   "file_extension": ".py",
   "mimetype": "text/x-python",
   "name": "python",
   "nbconvert_exporter": "python",
   "pygments_lexer": "ipython3",
   "version": "3.8.8"
  },
  "nteract": {
   "version": "0.12.3"
  },
  "varInspector": {
   "cols": {
    "lenName": 16,
    "lenType": 16,
    "lenVar": 40
   },
   "kernels_config": {
    "python": {
     "delete_cmd_postfix": "",
     "delete_cmd_prefix": "del ",
     "library": "var_list.py",
     "varRefreshCmd": "print(var_dic_list())"
    },
    "r": {
     "delete_cmd_postfix": ") ",
     "delete_cmd_prefix": "rm(",
     "library": "var_list.r",
     "varRefreshCmd": "cat(var_dic_list()) "
    }
   },
   "types_to_exclude": [
    "module",
    "function",
    "builtin_function_or_method",
    "instance",
    "_Feature"
   ],
   "window_display": false
  }
 },
 "nbformat": 4,
 "nbformat_minor": 2
}
